{
  "metadata": {
    "language_info": {
      "codemirror_mode": {
        "name": "python",
        "version": 3
      },
      "file_extension": ".py",
      "mimetype": "text/x-python",
      "name": "python",
      "nbconvert_exporter": "python",
      "pygments_lexer": "ipython3",
      "version": "3.8"
    },
    "kernelspec": {
      "name": "python",
      "display_name": "Python (Pyodide)",
      "language": "python"
    }
  },
  "nbformat_minor": 4,
  "nbformat": 4,
  "cells": [
    {
      "cell_type": "markdown",
      "source": "#pip install requests\n",
      "metadata": {}
    },
    {
      "cell_type": "markdown",
      "source": "from credentials import mobile_number\nimport requests\nimport schedule\nimport time",
      "metadata": {}
    },
    {
      "cell_type": "markdown",
      "source": "def send_message():\n    resp=requests.post(\"enter the site where the message is gonna post\",{\n        'phone':mobile_number,\n        'message':'hey,good morning',\n        'key':'textbelt',\n    })\n    print(resp.json()) ",
      "metadata": {}
    },
    {
      "cell_type": "markdown",
      "source": "#this will send the message to the the specified phone number. ",
      "metadata": {}
    },
    {
      "cell_type": "code",
      "source": "schedule.every().day.at('06:00').do(send_message)\n\n\n    while True:\n        schedule.run_pending()\n        time.sleep(1)",
      "metadata": {},
      "execution_count": null,
      "outputs": []
    }
  ]
}