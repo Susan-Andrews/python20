{
  "cells": [
    {
      "cell_type": "markdown",
      "metadata": {},
      "source": [
        "#pip install requests\n"
      ]
    },
    {
      "cell_type": "markdown",
      "metadata": {},
      "source": [
        "from credentials import mobile_number\n",
        "import requests\n",
        "import schedule\n",
        "import time"
      ]
    },
    {
      "cell_type": "markdown",
      "metadata": {},
      "source": []
    },
    {
      "cell_type": "markdown",
      "metadata": {},
      "source": [
        "def send_message():\n",
        "    resp=requests.post(\"enter the site where the message is gonna post\",{\n",
        "        'phone':mobile_number,\n",
        "        'message':'hey,good morning',\n",
        "        'key':'textbelt',\n",
        "    })\n",
        "    print(resp.json()) "
      ]
    },
    {
      "cell_type": "markdown",
      "metadata": {},
      "source": [
        "#this will send the message to the the specified phone number. "
      ]
    },
    {
      "cell_type": "code",
      "execution_count": null,
      "metadata": {},
      "outputs": [],
      "source": [
        "schedule.every().day.at('06:00').do(send_message)\n",
        "\n",
        "\n",
        "    while True:\n",
        "        schedule.run_pending()\n",
        "        time.sleep(1)"
      ]
    }
  ],
  "metadata": {
    "kernelspec": {
      "display_name": "Python (Pyodide)",
      "language": "python",
      "name": "python"
    },
    "language_info": {
      "codemirror_mode": {
        "name": "python",
        "version": 3
      },
      "file_extension": ".py",
      "mimetype": "text/x-python",
      "name": "python",
      "nbconvert_exporter": "python",
      "pygments_lexer": "ipython3",
      "version": "3.8"
    }
  },
  "nbformat": 4,
  "nbformat_minor": 4
}
