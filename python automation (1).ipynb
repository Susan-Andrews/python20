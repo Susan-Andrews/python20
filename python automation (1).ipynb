{
  "metadata": {
    "language_info": {
      "codemirror_mode": {
        "name": "python",
        "version": 3
      },
      "file_extension": ".py",
      "mimetype": "text/x-python",
      "name": "python",
      "nbconvert_exporter": "python",
      "pygments_lexer": "ipython3",
      "version": "3.8"
    },
    "kernelspec": {
      "name": "python",
      "display_name": "Python (Pyodide)",
      "language": "python"
    }
  },
  "nbformat_minor": 4,
  "nbformat": 4,
  "cells": [
    {
      "cell_type": "markdown",
      "source": "#pip install requests\n",
      "metadata": {}
    },
    {
      "cell_type": "markdown",
      "source": "from credentials import mobile_number #credentials is  another file having the details\nimport requests\nimport schedule\nimport time",
      "metadata": {}
    },
    {
      "cell_type": "markdown",
      "source": "def send_message():\n    resp=requests.post(\"enter the site where the message is gonna post\",{\n        'phone':mobile_number,\n        'message':'hey,good morning',\n        'key':'textbelt',\n    })\n    print(resp.json()) ",
      "metadata": {}
    },
    {
      "cell_type": "markdown",
      "source": "#this will send the message to the the specified phone number. ",
      "metadata": {}
    },
    {
      "cell_type": "markdown",
      "source": "schedule.every().day.at('06:00').do(send_message)\n      while True:\n        schedule.run_pending()\n        time.sleep(1)",
      "metadata": {}
    },
    {
      "cell_type": "code",
      "source": "#simple to use API for scheduling jobs, made for humans.",
      "metadata": {},
      "execution_count": null,
      "outputs": []
    },
    {
      "cell_type": "code",
      "source": "textbelt send the messages",
      "metadata": {},
      "execution_count": null,
      "outputs": []
    }
  ]
}